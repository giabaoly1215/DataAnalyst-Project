{
 "cells": [
  {
   "cell_type": "markdown",
   "id": "2e1cfe1b",
   "metadata": {},
   "source": [
    "# About this project\n",
    "New York City (NYC), a highly sought-after destination that attracts numerous visitors from around the globe. With its status as one of the most-visited cities worldwide, there is a significant demand for temporary accommodation options, ranging from short stays to long-term rentals. To cater to this demand, the Airbnb market in NYC offers a plethora of listings, providing diverse choices for travelers seeking a comfortable and convenient place to stay during their visit.\n",
    "\n",
    "In this project, we will be examining three datasets related to the New York Airbnb market. Each dataset has 25209 rows, 3 columns provides information on pricing, reviews, and room types. Throughout the analysis, we will explore key questions such as pricing trends across different neighborhoods, the impact of room types on prices, the popularity of hosts based on reviews, and the distribution of listings among neighborhoods. By answering these questions, we can uncover patterns, correlations, and trends that will help us understand the New York Airbnb market better. Ultimately, this analysis will provide valuable insights for stakeholders, hosts, and potential guests in the New York Airbnb ecosystem.\n",
    "\n",
    "We will be working with 3 datasets:\n",
    "1. \"datasets/airbnb_price.csv\" - Temporary lodging prices by neighborhood\n",
    "\n",
    "2. \"datasets/airbnb_room_type.xlsx\" - Airbnb accommodation types and descriptions\n",
    "\n",
    "3. \"datasets/airbnb_last_review.tsv\" - Host reviews and feedback\n",
    "\n",
    "Our goals is to explore, analyze the data to answer some questions, problems including:\n",
    "### Pricing\n",
    "1. The average price per night for an Airbnb listing in NYC\n",
    "2. The average price per night for an Airbnb listing in different states\n",
    "3. The state has the highest and lowest average price\n",
    "4. Total revenue for each month\n",
    "5. The month has the highest and lowest revenue\n",
    "### Review\n",
    "6. How do the number of reviews vary over time\n",
    "7. Are there any correlations between the number of reviews and the price?\n",
    "### Room type\n",
    "8. Which room type is the most popular among guests?\n",
    "9. Is there a relationship between the room type and the price?\n",
    "10. How does the availability of different room types vary across neighborhoods?\n",
    "11. Is there a relationship between the popularity and the prices across states?"
   ]
  },
  {
   "cell_type": "markdown",
   "id": "70101a37",
   "metadata": {},
   "source": [
    "# 1. Data importing"
   ]
  },
  {
   "cell_type": "code",
   "execution_count": 1,
   "id": "ad6c7e09",
   "metadata": {},
   "outputs": [
    {
     "name": "stdout",
     "output_type": "stream",
     "text": [
      "price:    listing_id        price                nbhood_full\n",
      "0        2595  225 dollars         Manhattan, Midtown\n",
      "1        3831   89 dollars     Brooklyn, Clinton Hill\n",
      "2        5099  200 dollars     Manhattan, Murray Hill\n",
      "3        5178   79 dollars  Manhattan, Hell's Kitchen\n",
      "4        5238  150 dollars       Manhattan, Chinatown \n",
      "\n",
      " review:    listing_id    host_name   last_review\n",
      "0        2595     Jennifer   May 21 2019\n",
      "1        3831  LisaRoxanne  July 05 2019\n",
      "2        5099        Chris  June 22 2019\n",
      "3        5178     Shunichi  June 24 2019\n",
      "4        5238          Ben  June 09 2019 \n",
      "\n",
      " room:    listing_id                                description        room_type\n",
      "0        2595                      Skylit Midtown Castle  Entire home/apt\n",
      "1        3831            Cozy Entire Floor of Brownstone  Entire home/apt\n",
      "2        5099  Large Cozy 1 BR Apartment In Midtown East  Entire home/apt\n",
      "3        5178            Large Furnished Room Near B'way     private room\n",
      "4        5238         Cute & Cozy Lower East Side 1 bdrm  Entire home/apt\n"
     ]
    }
   ],
   "source": [
    "import numpy as np\n",
    "import pandas as pd\n",
    "import datetime as dt\n",
    "import matplotlib.pyplot as plt\n",
    "import seaborn as sns\n",
    "\n",
    "# Load datasets\n",
    "review = pd.read_csv('datasets/airbnb_last_review.csv')\n",
    "price = pd.read_csv('datasets/airbnb_price.csv')\n",
    "room = pd.read_csv('datasets/airbnb_room_type.csv')\n",
    "\n",
    "# Review the first 5 rows of each dataframe\n",
    "print('price:', price.head(), '\\n\\n',\n",
    "      'review:', review.head(), '\\n\\n',\n",
    "      'room:', room.head())"
   ]
  },
  {
   "cell_type": "markdown",
   "id": "a7aa0052",
   "metadata": {},
   "source": [
    "# 2. Data cleaning\n",
    "To make it easier for data cleaning process, in this part we will go through each dataframe:\n",
    "## price"
   ]
  },
  {
   "cell_type": "code",
   "execution_count": 2,
   "id": "052590ed",
   "metadata": {},
   "outputs": [
    {
     "name": "stdout",
     "output_type": "stream",
     "text": [
      "<class 'pandas.core.frame.DataFrame'>\n",
      "RangeIndex: 25209 entries, 0 to 25208\n",
      "Data columns (total 3 columns):\n",
      " #   Column       Non-Null Count  Dtype \n",
      "---  ------       --------------  ----- \n",
      " 0   listing_id   25209 non-null  int64 \n",
      " 1   price        25209 non-null  object\n",
      " 2   nbhood_full  25209 non-null  object\n",
      "dtypes: int64(1), object(2)\n",
      "memory usage: 591.0+ KB\n"
     ]
    },
    {
     "data": {
      "text/html": [
       "<div>\n",
       "<style scoped>\n",
       "    .dataframe tbody tr th:only-of-type {\n",
       "        vertical-align: middle;\n",
       "    }\n",
       "\n",
       "    .dataframe tbody tr th {\n",
       "        vertical-align: top;\n",
       "    }\n",
       "\n",
       "    .dataframe thead th {\n",
       "        text-align: right;\n",
       "    }\n",
       "</style>\n",
       "<table border=\"1\" class=\"dataframe\">\n",
       "  <thead>\n",
       "    <tr style=\"text-align: right;\">\n",
       "      <th></th>\n",
       "      <th>listing_id</th>\n",
       "      <th>price</th>\n",
       "      <th>nbhood_full</th>\n",
       "    </tr>\n",
       "  </thead>\n",
       "  <tbody>\n",
       "    <tr>\n",
       "      <th>0</th>\n",
       "      <td>2595</td>\n",
       "      <td>225 dollars</td>\n",
       "      <td>Manhattan, Midtown</td>\n",
       "    </tr>\n",
       "    <tr>\n",
       "      <th>1</th>\n",
       "      <td>3831</td>\n",
       "      <td>89 dollars</td>\n",
       "      <td>Brooklyn, Clinton Hill</td>\n",
       "    </tr>\n",
       "    <tr>\n",
       "      <th>2</th>\n",
       "      <td>5099</td>\n",
       "      <td>200 dollars</td>\n",
       "      <td>Manhattan, Murray Hill</td>\n",
       "    </tr>\n",
       "    <tr>\n",
       "      <th>3</th>\n",
       "      <td>5178</td>\n",
       "      <td>79 dollars</td>\n",
       "      <td>Manhattan, Hell's Kitchen</td>\n",
       "    </tr>\n",
       "    <tr>\n",
       "      <th>4</th>\n",
       "      <td>5238</td>\n",
       "      <td>150 dollars</td>\n",
       "      <td>Manhattan, Chinatown</td>\n",
       "    </tr>\n",
       "  </tbody>\n",
       "</table>\n",
       "</div>"
      ],
      "text/plain": [
       "   listing_id        price                nbhood_full\n",
       "0        2595  225 dollars         Manhattan, Midtown\n",
       "1        3831   89 dollars     Brooklyn, Clinton Hill\n",
       "2        5099  200 dollars     Manhattan, Murray Hill\n",
       "3        5178   79 dollars  Manhattan, Hell's Kitchen\n",
       "4        5238  150 dollars       Manhattan, Chinatown"
      ]
     },
     "execution_count": 2,
     "metadata": {},
     "output_type": "execute_result"
    }
   ],
   "source": [
    "# Summary of price dataframe:\n",
    "price.info()\n",
    "\n",
    "# Take a look at some rows\n",
    "price.head()"
   ]
  },
  {
   "cell_type": "markdown",
   "id": "653aa392",
   "metadata": {},
   "source": [
    "We can see that there's no missing value in this dataframe. However, for the convenience of furthur analytics, we removed the text 'dollars' in the column 'price' and convert the remaining values into datatype 'int'. We also split the value in the column 'nbhood_full' into 2 columns 'state' and 'neighbor'. "
   ]
  },
  {
   "cell_type": "code",
   "execution_count": 3,
   "id": "a81d44ce",
   "metadata": {},
   "outputs": [
    {
     "name": "stdout",
     "output_type": "stream",
     "text": [
      "<class 'pandas.core.frame.DataFrame'>\n",
      "RangeIndex: 25209 entries, 0 to 25208\n",
      "Data columns (total 4 columns):\n",
      " #   Column      Non-Null Count  Dtype \n",
      "---  ------      --------------  ----- \n",
      " 0   listing_id  25209 non-null  int64 \n",
      " 1   room_price  25209 non-null  int64 \n",
      " 2   nbhood      25209 non-null  object\n",
      " 3   state       25209 non-null  object\n",
      "dtypes: int64(2), object(2)\n",
      "memory usage: 787.9+ KB\n"
     ]
    },
    {
     "data": {
      "text/html": [
       "<div>\n",
       "<style scoped>\n",
       "    .dataframe tbody tr th:only-of-type {\n",
       "        vertical-align: middle;\n",
       "    }\n",
       "\n",
       "    .dataframe tbody tr th {\n",
       "        vertical-align: top;\n",
       "    }\n",
       "\n",
       "    .dataframe thead th {\n",
       "        text-align: right;\n",
       "    }\n",
       "</style>\n",
       "<table border=\"1\" class=\"dataframe\">\n",
       "  <thead>\n",
       "    <tr style=\"text-align: right;\">\n",
       "      <th></th>\n",
       "      <th>listing_id</th>\n",
       "      <th>room_price</th>\n",
       "      <th>nbhood</th>\n",
       "      <th>state</th>\n",
       "    </tr>\n",
       "  </thead>\n",
       "  <tbody>\n",
       "    <tr>\n",
       "      <th>0</th>\n",
       "      <td>2595</td>\n",
       "      <td>225</td>\n",
       "      <td>Midtown</td>\n",
       "      <td>Manhattan</td>\n",
       "    </tr>\n",
       "    <tr>\n",
       "      <th>1</th>\n",
       "      <td>3831</td>\n",
       "      <td>89</td>\n",
       "      <td>Clinton Hill</td>\n",
       "      <td>Brooklyn</td>\n",
       "    </tr>\n",
       "    <tr>\n",
       "      <th>2</th>\n",
       "      <td>5099</td>\n",
       "      <td>200</td>\n",
       "      <td>Murray Hill</td>\n",
       "      <td>Manhattan</td>\n",
       "    </tr>\n",
       "    <tr>\n",
       "      <th>3</th>\n",
       "      <td>5178</td>\n",
       "      <td>79</td>\n",
       "      <td>Hell's Kitchen</td>\n",
       "      <td>Manhattan</td>\n",
       "    </tr>\n",
       "    <tr>\n",
       "      <th>4</th>\n",
       "      <td>5238</td>\n",
       "      <td>150</td>\n",
       "      <td>Chinatown</td>\n",
       "      <td>Manhattan</td>\n",
       "    </tr>\n",
       "  </tbody>\n",
       "</table>\n",
       "</div>"
      ],
      "text/plain": [
       "   listing_id  room_price           nbhood      state\n",
       "0        2595         225          Midtown  Manhattan\n",
       "1        3831          89     Clinton Hill   Brooklyn\n",
       "2        5099         200      Murray Hill  Manhattan\n",
       "3        5178          79   Hell's Kitchen  Manhattan\n",
       "4        5238         150        Chinatown  Manhattan"
      ]
     },
     "execution_count": 3,
     "metadata": {},
     "output_type": "execute_result"
    }
   ],
   "source": [
    "# Change columns' name\n",
    "price = price.rename(columns = {'price': 'room_price', 'nbhood_full': 'nbhood'})\n",
    "\n",
    "# Remove the text 'dollars' and change the datatype\n",
    "price['room_price'] = price['room_price'].apply(lambda x: int(x.replace(' dollars', '')))\n",
    "\n",
    "# Split the value in the column 'nbhood_full' into 2 columns 'state' and 'neighbor'\n",
    "price['state'] = price['nbhood'].apply(lambda x: x.split(',')[0])\n",
    "price['nbhood'] = price['nbhood'].apply(lambda x: x.split(',')[1])\n",
    "\n",
    "# Cleaned dataframe\n",
    "price.info()\n",
    "price.head()"
   ]
  },
  {
   "cell_type": "markdown",
   "id": "c1a34fb9",
   "metadata": {},
   "source": [
    "## review"
   ]
  },
  {
   "cell_type": "code",
   "execution_count": 4,
   "id": "1feabb47",
   "metadata": {},
   "outputs": [
    {
     "name": "stdout",
     "output_type": "stream",
     "text": [
      "<class 'pandas.core.frame.DataFrame'>\n",
      "RangeIndex: 25209 entries, 0 to 25208\n",
      "Data columns (total 3 columns):\n",
      " #   Column       Non-Null Count  Dtype \n",
      "---  ------       --------------  ----- \n",
      " 0   listing_id   25209 non-null  int64 \n",
      " 1   host_name    25201 non-null  object\n",
      " 2   last_review  25209 non-null  object\n",
      "dtypes: int64(1), object(2)\n",
      "memory usage: 591.0+ KB\n"
     ]
    },
    {
     "data": {
      "text/html": [
       "<div>\n",
       "<style scoped>\n",
       "    .dataframe tbody tr th:only-of-type {\n",
       "        vertical-align: middle;\n",
       "    }\n",
       "\n",
       "    .dataframe tbody tr th {\n",
       "        vertical-align: top;\n",
       "    }\n",
       "\n",
       "    .dataframe thead th {\n",
       "        text-align: right;\n",
       "    }\n",
       "</style>\n",
       "<table border=\"1\" class=\"dataframe\">\n",
       "  <thead>\n",
       "    <tr style=\"text-align: right;\">\n",
       "      <th></th>\n",
       "      <th>listing_id</th>\n",
       "      <th>host_name</th>\n",
       "      <th>last_review</th>\n",
       "    </tr>\n",
       "  </thead>\n",
       "  <tbody>\n",
       "    <tr>\n",
       "      <th>0</th>\n",
       "      <td>2595</td>\n",
       "      <td>Jennifer</td>\n",
       "      <td>May 21 2019</td>\n",
       "    </tr>\n",
       "    <tr>\n",
       "      <th>1</th>\n",
       "      <td>3831</td>\n",
       "      <td>LisaRoxanne</td>\n",
       "      <td>July 05 2019</td>\n",
       "    </tr>\n",
       "    <tr>\n",
       "      <th>2</th>\n",
       "      <td>5099</td>\n",
       "      <td>Chris</td>\n",
       "      <td>June 22 2019</td>\n",
       "    </tr>\n",
       "    <tr>\n",
       "      <th>3</th>\n",
       "      <td>5178</td>\n",
       "      <td>Shunichi</td>\n",
       "      <td>June 24 2019</td>\n",
       "    </tr>\n",
       "    <tr>\n",
       "      <th>4</th>\n",
       "      <td>5238</td>\n",
       "      <td>Ben</td>\n",
       "      <td>June 09 2019</td>\n",
       "    </tr>\n",
       "  </tbody>\n",
       "</table>\n",
       "</div>"
      ],
      "text/plain": [
       "   listing_id    host_name   last_review\n",
       "0        2595     Jennifer   May 21 2019\n",
       "1        3831  LisaRoxanne  July 05 2019\n",
       "2        5099        Chris  June 22 2019\n",
       "3        5178     Shunichi  June 24 2019\n",
       "4        5238          Ben  June 09 2019"
      ]
     },
     "execution_count": 4,
     "metadata": {},
     "output_type": "execute_result"
    }
   ],
   "source": [
    "# Summary of price dataframe:\n",
    "review.info()\n",
    "\n",
    "# Take a look at some rows\n",
    "review.head()"
   ]
  },
  {
   "cell_type": "markdown",
   "id": "3c2f58f5",
   "metadata": {},
   "source": [
    "In this dataframe, first we have to handle 9 missing value in the column 'host_name'. Because the number of rows containing missing values is very small, only 0.03% of the total, we delete these lines in all 3 dataframes to facilitate calculations. Then change the datatype in 'last_review' in to 'datetime'"
   ]
  },
  {
   "cell_type": "code",
   "execution_count": 5,
   "id": "f721e355",
   "metadata": {},
   "outputs": [
    {
     "name": "stdout",
     "output_type": "stream",
     "text": [
      "<class 'pandas.core.frame.DataFrame'>\n",
      "Int64Index: 25201 entries, 0 to 25208\n",
      "Data columns (total 3 columns):\n",
      " #   Column       Non-Null Count  Dtype         \n",
      "---  ------       --------------  -----         \n",
      " 0   listing_id   25201 non-null  int64         \n",
      " 1   host_name    25201 non-null  object        \n",
      " 2   last_review  25201 non-null  datetime64[ns]\n",
      "dtypes: datetime64[ns](1), int64(1), object(1)\n",
      "memory usage: 787.5+ KB\n"
     ]
    },
    {
     "data": {
      "text/html": [
       "<div>\n",
       "<style scoped>\n",
       "    .dataframe tbody tr th:only-of-type {\n",
       "        vertical-align: middle;\n",
       "    }\n",
       "\n",
       "    .dataframe tbody tr th {\n",
       "        vertical-align: top;\n",
       "    }\n",
       "\n",
       "    .dataframe thead th {\n",
       "        text-align: right;\n",
       "    }\n",
       "</style>\n",
       "<table border=\"1\" class=\"dataframe\">\n",
       "  <thead>\n",
       "    <tr style=\"text-align: right;\">\n",
       "      <th></th>\n",
       "      <th>listing_id</th>\n",
       "      <th>host_name</th>\n",
       "      <th>last_review</th>\n",
       "    </tr>\n",
       "  </thead>\n",
       "  <tbody>\n",
       "    <tr>\n",
       "      <th>0</th>\n",
       "      <td>2595</td>\n",
       "      <td>Jennifer</td>\n",
       "      <td>2019-05-21</td>\n",
       "    </tr>\n",
       "    <tr>\n",
       "      <th>1</th>\n",
       "      <td>3831</td>\n",
       "      <td>LisaRoxanne</td>\n",
       "      <td>2019-07-05</td>\n",
       "    </tr>\n",
       "    <tr>\n",
       "      <th>2</th>\n",
       "      <td>5099</td>\n",
       "      <td>Chris</td>\n",
       "      <td>2019-06-22</td>\n",
       "    </tr>\n",
       "    <tr>\n",
       "      <th>3</th>\n",
       "      <td>5178</td>\n",
       "      <td>Shunichi</td>\n",
       "      <td>2019-06-24</td>\n",
       "    </tr>\n",
       "    <tr>\n",
       "      <th>4</th>\n",
       "      <td>5238</td>\n",
       "      <td>Ben</td>\n",
       "      <td>2019-06-09</td>\n",
       "    </tr>\n",
       "  </tbody>\n",
       "</table>\n",
       "</div>"
      ],
      "text/plain": [
       "   listing_id    host_name last_review\n",
       "0        2595     Jennifer  2019-05-21\n",
       "1        3831  LisaRoxanne  2019-07-05\n",
       "2        5099        Chris  2019-06-22\n",
       "3        5178     Shunichi  2019-06-24\n",
       "4        5238          Ben  2019-06-09"
      ]
     },
     "execution_count": 5,
     "metadata": {},
     "output_type": "execute_result"
    }
   ],
   "source": [
    "# Rows that have missing value\n",
    "review[review.isna().any(axis = 1)]\n",
    "\n",
    "# Get the ID of these rows\n",
    "missing_id = review[review.isna().any(axis = 1)]['listing_id']\n",
    "\n",
    "# Delete rows base on missing_id on 3 dataframes\n",
    "review = review[~review['listing_id'].isin(missing_id)]\n",
    "price = price[~price['listing_id'].isin(missing_id)]\n",
    "room = room[~room['listing_id'].isin(missing_id)]\n",
    "\n",
    "# Change the datatype in 'last_review' in to 'datetime'\n",
    "review['last_review'] = review['last_review'].apply(lambda x: dt.datetime.strptime(x, '%B %d %Y'))\n",
    "\n",
    "# Cleaned dataframe\n",
    "review.info()\n",
    "review.head()"
   ]
  },
  {
   "cell_type": "markdown",
   "id": "a6db465a",
   "metadata": {},
   "source": [
    "## room"
   ]
  },
  {
   "cell_type": "code",
   "execution_count": 6,
   "id": "f3291ecd",
   "metadata": {},
   "outputs": [
    {
     "name": "stdout",
     "output_type": "stream",
     "text": [
      "<class 'pandas.core.frame.DataFrame'>\n",
      "Int64Index: 25201 entries, 0 to 25208\n",
      "Data columns (total 3 columns):\n",
      " #   Column       Non-Null Count  Dtype \n",
      "---  ------       --------------  ----- \n",
      " 0   listing_id   25201 non-null  int64 \n",
      " 1   description  25201 non-null  object\n",
      " 2   room_type    25201 non-null  object\n",
      "dtypes: int64(1), object(2)\n",
      "memory usage: 787.5+ KB\n"
     ]
    },
    {
     "data": {
      "text/html": [
       "<div>\n",
       "<style scoped>\n",
       "    .dataframe tbody tr th:only-of-type {\n",
       "        vertical-align: middle;\n",
       "    }\n",
       "\n",
       "    .dataframe tbody tr th {\n",
       "        vertical-align: top;\n",
       "    }\n",
       "\n",
       "    .dataframe thead th {\n",
       "        text-align: right;\n",
       "    }\n",
       "</style>\n",
       "<table border=\"1\" class=\"dataframe\">\n",
       "  <thead>\n",
       "    <tr style=\"text-align: right;\">\n",
       "      <th></th>\n",
       "      <th>listing_id</th>\n",
       "      <th>description</th>\n",
       "      <th>room_type</th>\n",
       "    </tr>\n",
       "  </thead>\n",
       "  <tbody>\n",
       "    <tr>\n",
       "      <th>0</th>\n",
       "      <td>2595</td>\n",
       "      <td>Skylit Midtown Castle</td>\n",
       "      <td>Entire home/apt</td>\n",
       "    </tr>\n",
       "    <tr>\n",
       "      <th>1</th>\n",
       "      <td>3831</td>\n",
       "      <td>Cozy Entire Floor of Brownstone</td>\n",
       "      <td>Entire home/apt</td>\n",
       "    </tr>\n",
       "    <tr>\n",
       "      <th>2</th>\n",
       "      <td>5099</td>\n",
       "      <td>Large Cozy 1 BR Apartment In Midtown East</td>\n",
       "      <td>Entire home/apt</td>\n",
       "    </tr>\n",
       "    <tr>\n",
       "      <th>3</th>\n",
       "      <td>5178</td>\n",
       "      <td>Large Furnished Room Near B'way</td>\n",
       "      <td>private room</td>\n",
       "    </tr>\n",
       "    <tr>\n",
       "      <th>4</th>\n",
       "      <td>5238</td>\n",
       "      <td>Cute &amp; Cozy Lower East Side 1 bdrm</td>\n",
       "      <td>Entire home/apt</td>\n",
       "    </tr>\n",
       "  </tbody>\n",
       "</table>\n",
       "</div>"
      ],
      "text/plain": [
       "   listing_id                                description        room_type\n",
       "0        2595                      Skylit Midtown Castle  Entire home/apt\n",
       "1        3831            Cozy Entire Floor of Brownstone  Entire home/apt\n",
       "2        5099  Large Cozy 1 BR Apartment In Midtown East  Entire home/apt\n",
       "3        5178            Large Furnished Room Near B'way     private room\n",
       "4        5238         Cute & Cozy Lower East Side 1 bdrm  Entire home/apt"
      ]
     },
     "execution_count": 6,
     "metadata": {},
     "output_type": "execute_result"
    }
   ],
   "source": [
    "# Summary of price dataframe:\n",
    "room.info()\n",
    "\n",
    "# Take a look at some rows\n",
    "room.head()"
   ]
  },
  {
   "cell_type": "markdown",
   "id": "c5860fee",
   "metadata": {},
   "source": [
    "In this dataframe, we only re-format the room_type column:"
   ]
  },
  {
   "cell_type": "code",
   "execution_count": 7,
   "id": "91bf29da",
   "metadata": {},
   "outputs": [
    {
     "data": {
      "text/plain": [
       "array(['Entire home/apt', 'private room', 'Private room',\n",
       "       'entire home/apt', 'PRIVATE ROOM', 'shared room',\n",
       "       'ENTIRE HOME/APT', 'Shared room', 'SHARED ROOM'], dtype=object)"
      ]
     },
     "execution_count": 7,
     "metadata": {},
     "output_type": "execute_result"
    }
   ],
   "source": [
    "room['room_type'].unique()"
   ]
  },
  {
   "cell_type": "code",
   "execution_count": 8,
   "id": "638612cd",
   "metadata": {},
   "outputs": [
    {
     "data": {
      "text/plain": [
       "array(['Entire home/apt', 'Private room', 'Shared room'], dtype=object)"
      ]
     },
     "execution_count": 8,
     "metadata": {},
     "output_type": "execute_result"
    }
   ],
   "source": [
    "# After formatting\n",
    "room['room_type'] = room['room_type'].apply(lambda x: x.capitalize())\n",
    "room['room_type'].unique()"
   ]
  },
  {
   "cell_type": "code",
   "execution_count": 9,
   "id": "480bef53",
   "metadata": {},
   "outputs": [
    {
     "name": "stdout",
     "output_type": "stream",
     "text": [
      "<class 'pandas.core.frame.DataFrame'>\n",
      "Int64Index: 25201 entries, 0 to 25208\n",
      "Data columns (total 3 columns):\n",
      " #   Column       Non-Null Count  Dtype \n",
      "---  ------       --------------  ----- \n",
      " 0   listing_id   25201 non-null  int64 \n",
      " 1   description  25201 non-null  object\n",
      " 2   room_type    25201 non-null  object\n",
      "dtypes: int64(1), object(2)\n",
      "memory usage: 787.5+ KB\n"
     ]
    },
    {
     "data": {
      "text/html": [
       "<div>\n",
       "<style scoped>\n",
       "    .dataframe tbody tr th:only-of-type {\n",
       "        vertical-align: middle;\n",
       "    }\n",
       "\n",
       "    .dataframe tbody tr th {\n",
       "        vertical-align: top;\n",
       "    }\n",
       "\n",
       "    .dataframe thead th {\n",
       "        text-align: right;\n",
       "    }\n",
       "</style>\n",
       "<table border=\"1\" class=\"dataframe\">\n",
       "  <thead>\n",
       "    <tr style=\"text-align: right;\">\n",
       "      <th></th>\n",
       "      <th>listing_id</th>\n",
       "      <th>description</th>\n",
       "      <th>room_type</th>\n",
       "    </tr>\n",
       "  </thead>\n",
       "  <tbody>\n",
       "    <tr>\n",
       "      <th>0</th>\n",
       "      <td>2595</td>\n",
       "      <td>Skylit Midtown Castle</td>\n",
       "      <td>Entire home/apt</td>\n",
       "    </tr>\n",
       "    <tr>\n",
       "      <th>1</th>\n",
       "      <td>3831</td>\n",
       "      <td>Cozy Entire Floor of Brownstone</td>\n",
       "      <td>Entire home/apt</td>\n",
       "    </tr>\n",
       "    <tr>\n",
       "      <th>2</th>\n",
       "      <td>5099</td>\n",
       "      <td>Large Cozy 1 BR Apartment In Midtown East</td>\n",
       "      <td>Entire home/apt</td>\n",
       "    </tr>\n",
       "    <tr>\n",
       "      <th>3</th>\n",
       "      <td>5178</td>\n",
       "      <td>Large Furnished Room Near B'way</td>\n",
       "      <td>Private room</td>\n",
       "    </tr>\n",
       "    <tr>\n",
       "      <th>4</th>\n",
       "      <td>5238</td>\n",
       "      <td>Cute &amp; Cozy Lower East Side 1 bdrm</td>\n",
       "      <td>Entire home/apt</td>\n",
       "    </tr>\n",
       "  </tbody>\n",
       "</table>\n",
       "</div>"
      ],
      "text/plain": [
       "   listing_id                                description        room_type\n",
       "0        2595                      Skylit Midtown Castle  Entire home/apt\n",
       "1        3831            Cozy Entire Floor of Brownstone  Entire home/apt\n",
       "2        5099  Large Cozy 1 BR Apartment In Midtown East  Entire home/apt\n",
       "3        5178            Large Furnished Room Near B'way     Private room\n",
       "4        5238         Cute & Cozy Lower East Side 1 bdrm  Entire home/apt"
      ]
     },
     "execution_count": 9,
     "metadata": {},
     "output_type": "execute_result"
    }
   ],
   "source": [
    "# Cleaned dataframe\n",
    "room.info()\n",
    "room.head()"
   ]
  },
  {
   "cell_type": "markdown",
   "id": "bbb94e86",
   "metadata": {},
   "source": [
    "After performing data cleaning to ensure accurate and consistent data, we move on to the analysis phase. Exploring correlations, trends, and patterns within the dataset provides valuable insights for informed decision-making and deeper understanding of the subject matter."
   ]
  },
  {
   "cell_type": "markdown",
   "id": "6f42b606",
   "metadata": {},
   "source": [
    "# 3. Analytics\n",
    "## a. Pricing"
   ]
  },
  {
   "cell_type": "code",
   "execution_count": 10,
   "id": "b5c03bfb",
   "metadata": {},
   "outputs": [
    {
     "name": "stdout",
     "output_type": "stream",
     "text": [
      "The average price per night for an Airbnb listing in NYC is $141.79\n"
     ]
    }
   ],
   "source": [
    "# Remove some unexpected blanks\n",
    "price['nbhood'] = price['nbhood'].apply(lambda x: x.lstrip())\n",
    "state = price['state'].unique()\n",
    "\n",
    "# The average price per night for an Airbnb listing in NYC\n",
    "nyc_avg_price = price['room_price'].mean()\n",
    "nyc_avg_price\n",
    "\n",
    "print(f'The average price per night for an Airbnb listing in NYC is ${round(nyc_avg_price, 2)}')"
   ]
  },
  {
   "cell_type": "code",
   "execution_count": 11,
   "id": "b5255ce6",
   "metadata": {},
   "outputs": [
    {
     "name": "stdout",
     "output_type": "stream",
     "text": [
      "The average price per night for an Airbnb listing in different states: \n",
      "state\n",
      "Bronx             79.13\n",
      "Brooklyn         121.91\n",
      "Manhattan        184.02\n",
      "Queens            92.83\n",
      "Staten Island     86.04\n",
      "Name: room_price, dtype: float64\n",
      "\n",
      "The state has the highest average price: Manhattan ($184.02)\n",
      "The state has the lowest average price: Bronx ($79.13)\n"
     ]
    }
   ],
   "source": [
    "# The average price per night for an Airbnb listing in different states\n",
    "state_avg_price = price.groupby('state')['room_price'].mean()\n",
    "state_avg_price\n",
    "\n",
    "print(f'The average price per night for an Airbnb listing in different states: \\n{round(state_avg_price, 2)}\\n')\n",
    "\n",
    "# The state has the highest and lowest average price\n",
    "print(f'The state has the highest average price: {state_avg_price.idxmax()} (${round(state_avg_price.max(),2)})')\n",
    "print(f'The state has the lowest average price: {state_avg_price.idxmin()} (${round(state_avg_price.min(),2)})')"
   ]
  },
  {
   "cell_type": "code",
   "execution_count": 12,
   "id": "27927255",
   "metadata": {},
   "outputs": [
    {
     "data": {
      "text/html": [
       "<div>\n",
       "<style scoped>\n",
       "    .dataframe tbody tr th:only-of-type {\n",
       "        vertical-align: middle;\n",
       "    }\n",
       "\n",
       "    .dataframe tbody tr th {\n",
       "        vertical-align: top;\n",
       "    }\n",
       "\n",
       "    .dataframe thead th {\n",
       "        text-align: right;\n",
       "    }\n",
       "</style>\n",
       "<table border=\"1\" class=\"dataframe\">\n",
       "  <thead>\n",
       "    <tr style=\"text-align: right;\">\n",
       "      <th></th>\n",
       "      <th>listing_id</th>\n",
       "      <th>room_price</th>\n",
       "      <th>nbhood</th>\n",
       "      <th>state</th>\n",
       "      <th>room_type</th>\n",
       "    </tr>\n",
       "  </thead>\n",
       "  <tbody>\n",
       "    <tr>\n",
       "      <th>0</th>\n",
       "      <td>2595</td>\n",
       "      <td>225</td>\n",
       "      <td>Midtown</td>\n",
       "      <td>Manhattan</td>\n",
       "      <td>Entire home/apt</td>\n",
       "    </tr>\n",
       "    <tr>\n",
       "      <th>1</th>\n",
       "      <td>3831</td>\n",
       "      <td>89</td>\n",
       "      <td>Clinton Hill</td>\n",
       "      <td>Brooklyn</td>\n",
       "      <td>Entire home/apt</td>\n",
       "    </tr>\n",
       "    <tr>\n",
       "      <th>2</th>\n",
       "      <td>5099</td>\n",
       "      <td>200</td>\n",
       "      <td>Murray Hill</td>\n",
       "      <td>Manhattan</td>\n",
       "      <td>Entire home/apt</td>\n",
       "    </tr>\n",
       "    <tr>\n",
       "      <th>3</th>\n",
       "      <td>5178</td>\n",
       "      <td>79</td>\n",
       "      <td>Hell's Kitchen</td>\n",
       "      <td>Manhattan</td>\n",
       "      <td>Private room</td>\n",
       "    </tr>\n",
       "    <tr>\n",
       "      <th>4</th>\n",
       "      <td>5238</td>\n",
       "      <td>150</td>\n",
       "      <td>Chinatown</td>\n",
       "      <td>Manhattan</td>\n",
       "      <td>Entire home/apt</td>\n",
       "    </tr>\n",
       "  </tbody>\n",
       "</table>\n",
       "</div>"
      ],
      "text/plain": [
       "   listing_id  room_price          nbhood      state        room_type\n",
       "0        2595         225         Midtown  Manhattan  Entire home/apt\n",
       "1        3831          89    Clinton Hill   Brooklyn  Entire home/apt\n",
       "2        5099         200     Murray Hill  Manhattan  Entire home/apt\n",
       "3        5178          79  Hell's Kitchen  Manhattan     Private room\n",
       "4        5238         150       Chinatown  Manhattan  Entire home/apt"
      ]
     },
     "execution_count": 12,
     "metadata": {},
     "output_type": "execute_result"
    }
   ],
   "source": [
    "# Merge the dataframe price and the column 'room_type' of dataframe 'room'\n",
    "price = pd.merge(price, room[['listing_id', 'room_type']], on = 'listing_id')\n",
    "price.head()"
   ]
  },
  {
   "cell_type": "code",
   "execution_count": 13,
   "id": "ffbe5877",
   "metadata": {},
   "outputs": [
    {
     "name": "stdout",
     "output_type": "stream",
     "text": [
      "The average price per night for an Airbnb listing in different type of room: \n",
      "room_type\n",
      "Entire home/apt    197.19\n",
      "Private room        81.63\n",
      "Shared room         53.47\n",
      "Name: room_price, dtype: float64\n",
      "\n",
      "The room type has the highest average price: Entire home/apt ($197.19)\n",
      "The room typee has the lowest average price: Shared room ($53.47)\n"
     ]
    }
   ],
   "source": [
    "# The average price per night for an Airbnb listing in different type of room\n",
    "room_avg_price = price.groupby('room_type')['room_price'].mean()\n",
    "room_avg_price\n",
    "\n",
    "print(f'The average price per night for an Airbnb listing in different type of room: \\n{round(room_avg_price, 2)}\\n')\n",
    "\n",
    "# The state has the highest and lowest average price\n",
    "print(f'The room type has the highest average price: {room_avg_price.idxmax()} (${round(room_avg_price.max(),2)})')\n",
    "print(f'The room typee has the lowest average price: {room_avg_price.idxmin()} (${round(room_avg_price.min(),2)})')"
   ]
  },
  {
   "cell_type": "code",
   "execution_count": 14,
   "id": "e96a2706",
   "metadata": {},
   "outputs": [
    {
     "name": "stdout",
     "output_type": "stream",
     "text": [
      "Total revenue for each month: \n",
      "last_review\n",
      "1.0     191650\n",
      "2.0      68047\n",
      "3.0     110341\n",
      "4.0     196925\n",
      "5.0     536224\n",
      "6.0    1780681\n",
      "7.0     688542\n",
      "Name: room_price, dtype: int64\n",
      "\n",
      "The month has the highest revenue: 6 ($1780681)\n",
      "The month has the lowest revenue: 2 ($68047)\n"
     ]
    }
   ],
   "source": [
    "# Total revenue for each month\n",
    "month_revenue = price.groupby(review['last_review'].dt.month)['room_price'].sum()\n",
    "month_revenue\n",
    "\n",
    "print(f'Total revenue for each month: \\n{round(month_revenue, 2)}\\n')\n",
    "\n",
    "# The month has the highest and lowest revenue\n",
    "print(f'The month has the highest revenue: {int(month_revenue.idxmax())} (${round(month_revenue.max(),2)})')\n",
    "print(f'The month has the lowest revenue: {int(month_revenue.idxmin())} (${round(month_revenue.min(),2)})')"
   ]
  },
  {
   "cell_type": "markdown",
   "id": "90af85e1",
   "metadata": {},
   "source": [
    "## b. Host and Review"
   ]
  },
  {
   "cell_type": "code",
   "execution_count": 15,
   "id": "d8c96a1d",
   "metadata": {},
   "outputs": [
    {
     "name": "stdout",
     "output_type": "stream",
     "text": [
      "The month has the highest number of reviews: 6 (12599 reviews)\n",
      "The month has the lowest number of reviews: 2 (470 reviews)\n"
     ]
    }
   ],
   "source": [
    "# How do the number of reviews vary over time\n",
    "month_review = review.groupby(review['last_review'].dt.month)['listing_id'].count()\n",
    "month_review\n",
    "\n",
    "print(f'The month has the highest number of reviews: {month_review.idxmax()} ({round(month_review.max(),2)} reviews)')\n",
    "print(f'The month has the lowest number of reviews: {month_review.idxmin()} ({round(month_review.min(),2)} reviews)')"
   ]
  },
  {
   "cell_type": "code",
   "execution_count": 16,
   "id": "677b72ea",
   "metadata": {},
   "outputs": [
    {
     "data": {
      "text/plain": [
       "0.9998156496144884"
      ]
     },
     "execution_count": 16,
     "metadata": {},
     "output_type": "execute_result"
    }
   ],
   "source": [
    "# Are there any correlations between the number of reviews and the price?\n",
    "correlation = month_review.corr(month_revenue)\n",
    "correlation"
   ]
  },
  {
   "cell_type": "markdown",
   "id": "fb07a110",
   "metadata": {},
   "source": [
    "## c. Room Type"
   ]
  },
  {
   "cell_type": "code",
   "execution_count": 17,
   "id": "69e86a11",
   "metadata": {},
   "outputs": [
    {
     "name": "stdout",
     "output_type": "stream",
     "text": [
      "The most popular type of rooms: Entire home/apt (13262)\n",
      "The most popular type of rooms: Shared room (587)\n"
     ]
    }
   ],
   "source": [
    "# Which room type is the most popular among guests?\n",
    "room_count = room.groupby(room['room_type'])['listing_id'].count()\n",
    "room_count\n",
    "\n",
    "print(f'The most popular type of rooms: {room_count.idxmax()} ({round(room_count.max(),2)})')\n",
    "print(f'The most popular type of rooms: {room_count.idxmin()} ({round(room_count.min(),2)})')"
   ]
  },
  {
   "cell_type": "code",
   "execution_count": 18,
   "id": "84ebfb5d",
   "metadata": {},
   "outputs": [
    {
     "data": {
      "text/plain": [
       "0.7511525128821132"
      ]
     },
     "execution_count": 18,
     "metadata": {},
     "output_type": "execute_result"
    }
   ],
   "source": [
    "# Is there a relationship between the room type and the price of temporary lodging?\n",
    "correlation = room_count.corr(room_avg_price)\n",
    "correlation"
   ]
  },
  {
   "cell_type": "code",
   "execution_count": 47,
   "id": "a317e303",
   "metadata": {},
   "outputs": [
    {
     "name": "stdout",
     "output_type": "stream",
     "text": [
      "           state              nbhood  Room Count\n",
      "0          Bronx          Mott Haven          46\n",
      "1       Brooklyn  Bedford-Stuyvesant        2209\n",
      "2      Manhattan              Harlem        1434\n",
      "3         Queens             Astoria         448\n",
      "4  Staten Island       Tompkinsville          33\n"
     ]
    }
   ],
   "source": [
    "# How does the availability of different room types vary across neighborhoods?\n",
    "top_neighborhoods_by_state = (\n",
    "    price.groupby('state')['nbhood']\n",
    "    .value_counts()\n",
    "    .groupby(level=0)\n",
    "    .nlargest(1)\n",
    "    .reset_index(level=0, drop=True)\n",
    "    .reset_index(name='Room Count')\n",
    ")\n",
    "print(top_neighborhoods_by_state)\n"
   ]
  },
  {
   "cell_type": "code",
   "execution_count": 20,
   "id": "3479077b",
   "metadata": {},
   "outputs": [
    {
     "name": "stdout",
     "output_type": "stream",
     "text": [
      "0.8434212014409037\n"
     ]
    }
   ],
   "source": [
    "# Is there a relationship between the popularity and the prices across states?\n",
    "temp1 = price.groupby('state')['listing_id'].count()\n",
    "len(temp1)\n",
    "temp2 = price.groupby('state')['room_price'].mean()\n",
    "len(temp2)\n",
    "print(temp1.corr(temp2))"
   ]
  },
  {
   "cell_type": "markdown",
   "id": "4df353a3",
   "metadata": {},
   "source": [
    "# 4. Visualization"
   ]
  },
  {
   "cell_type": "code",
   "execution_count": 27,
   "id": "ced00702",
   "metadata": {},
   "outputs": [
    {
     "data": {
      "image/png": "[encoded data removed]",
      "text/plain": [
       "<Figure size 800x600 with 1 Axes>"
      ]
     },
     "metadata": {},
     "output_type": "display_data"
    }
   ],
   "source": [
    "# The average price per night for an Airbnb listing in different states\n",
    "sns.set(style = 'whitegrid')\n",
    "plt.figure(figsize=(8, 6))\n",
    "state_avg_price.plot(kind='bar', color='skyblue')\n",
    "plt.title('Average Price per Night in Different States')\n",
    "plt.xlabel('State')\n",
    "plt.ylabel('Average Price ($)')\n",
    "plt.xticks(rotation=45)\n",
    "plt.show()"
   ]
  },
  {
   "cell_type": "markdown",
   "id": "0260e1e9",
   "metadata": {},
   "source": [
    "The price variation across different states can be explained by factors such as high demand and limited availability in popular and densely populated areas like Manhattan and Brooklyn, leading to higher prices. On the other hand, Bronx, Queens, and Staten Island have relatively lower prices, possibly due to a more affordable housing market and different property types available for booking. Other factors like location, amenities, property size, and proximity to attractions also contribute to the pricing dynamics within each state."
   ]
  },
  {
   "cell_type": "code",
   "execution_count": 26,
   "id": "e04980ad",
   "metadata": {},
   "outputs": [
    {
     "data": {
      "image/png": "[encoded data removed]",
      "text/plain": [
       "<Figure size 800x600 with 1 Axes>"
      ]
     },
     "metadata": {},
     "output_type": "display_data"
    }
   ],
   "source": [
    "# The average price per night for an Airbnb listing in different type of room\n",
    "sns.set(style = 'whitegrid')\n",
    "plt.figure(figsize=(8, 6))\n",
    "room_avg_price.plot(kind='bar', color='skyblue')\n",
    "plt.title('Average Price per Night for Different Room Types')\n",
    "plt.xlabel('Room Type')\n",
    "plt.ylabel('Average Price ($)')\n",
    "plt.xticks(rotation=0)\n",
    "plt.show()"
   ]
  },
  {
   "cell_type": "markdown",
   "id": "f7489dbe",
   "metadata": {},
   "source": [
    "The average price per night for different types of Airbnb rooms varies. \"Entire home/apt\" has the highest average price of 197.19, indicating more space and privacy. \"Private room\" is moderately priced at 81.63, offering privacy within a shared space. \"Shared room\" is the most affordable at 53.47, where guests share common areas. These prices reflect the market demand and amenities associated with each room type, allowing guests to choose based on their budget and preferences."
   ]
  },
  {
   "cell_type": "code",
   "execution_count": 29,
   "id": "cb80aca7",
   "metadata": {},
   "outputs": [
    {
     "data": {
      "image/png": "[encoded data removed]",
      "text/plain": [
       "<Figure size 800x600 with 1 Axes>"
      ]
     },
     "metadata": {},
     "output_type": "display_data"
    }
   ],
   "source": [
    "# Total revenue for each month\n",
    "sns.set(style = 'whitegrid')\n",
    "plt.figure(figsize=(8, 6))\n",
    "month_revenue.plot(kind='line', marker='o', color='orange')\n",
    "plt.title('Total Revenue per Month')\n",
    "plt.xlabel('Month')\n",
    "plt.ylabel('Total Revenue ($)')\n",
    "plt.xticks(month_revenue.index)\n",
    "plt.grid(True)\n",
    "plt.show()"
   ]
  },
  {
   "cell_type": "markdown",
   "id": "be74eda4",
   "metadata": {},
   "source": [
    "June exhibits the highest total revenue among all months, attributed to several factors. Firstly, June marks the onset of summer, a peak season for tourism in NYC. Tourists flock to the city to enjoy various outdoor activities and attractions. Additionally, June offers pleasant weather without the extreme heat and humidity experienced in the subsequent months. The combination of favorable weather, increased tourism, and a wide range of events and festivals contributes to the higher demand for accommodations, resulting in a surge in revenue for Airbnb listings during this month."
   ]
  },
  {
   "cell_type": "code",
   "execution_count": 45,
   "id": "b0c2cbbd",
   "metadata": {},
   "outputs": [
    {
     "data": {
      "image/png": "[encoded data removed]",
      "text/plain": [
       "<Figure size 1000x600 with 1 Axes>"
      ]
     },
     "metadata": {},
     "output_type": "display_data"
    }
   ],
   "source": [
    "# Room count by neighborhood within each state\n",
    "sns.set(style = 'whitegrid')\n",
    "plt.figure(figsize=(10, 6))\n",
    "sns.barplot(data=top_neighborhoods_by_state, x='nbhood', y='Room Count', hue='state')\n",
    "plt.title('Room Count by Neighborhood and State')\n",
    "plt.xlabel('Neighborhood')\n",
    "plt.ylabel('Room Count')\n",
    "plt.xticks(rotation=45)\n",
    "plt.legend(title='State')\n",
    "plt.show()"
   ]
  },
  {
   "cell_type": "markdown",
   "id": "bb2f59c0",
   "metadata": {},
   "source": [
    "The table shows the top neighborhoods with the highest room count in each state. In the Bronx, Mott Haven stands out with 46 available rooms. In Brooklyn, Bedford-Stuyvesant has the highest room count with 2,209 listings. Manhattan's Harlem neighborhood offers 1,434 available rooms, making it the most popular in that borough. Astoria in Queens has 448 rooms, and Tompkinsville in Staten Island has 33 rooms. These neighborhoods likely attract more visitors and have a higher number of accommodations, reflecting their popularity among guests looking for temporary lodging in their respective states."
   ]
  },
  {
   "cell_type": "markdown",
   "id": "4f1c646b",
   "metadata": {},
   "source": [
    "# Conclusion\n",
    "In this data analysis project, we explored Airbnb listings in New York City to gain insights into pricing, room types, neighborhood popularity, and reviews. We observed that the average price per night varied across different states, with Manhattan having the highest average price and the Bronx having the lowest. The most popular room type among guests was \"Entire home/apt,\" which had the highest average price, while \"Shared room\" had the lowest. We also analyzed the number of reviews over time and identified a peak in June, likely due to the beginning of the summer season and increased tourism. Additionally, we examined the availability of different room types across neighborhoods, highlighting the top neighborhoods with the highest room counts in each state.\n",
    "\n",
    "This project serves as a starting point for further analysis and improvement. Future work can include more in-depth exploration of factors influencing pricing, detailed sentiment analysis of reviews, and consideration of additional variables such as amenities and location. With further refinement and exploration, this project can provide more comprehensive insights into the NYC Airbnb market."
   ]
  }
 ],
 "metadata": {
  "kernelspec": {
   "display_name": "Python 3 (ipykernel)",
   "language": "python",
   "name": "python3"
  },
  "language_info": {
   "codemirror_mode": {
    "name": "ipython",
    "version": 3
   },
   "file_extension": ".py",
   "mimetype": "text/x-python",
   "name": "python",
   "nbconvert_exporter": "python",
   "pygments_lexer": "ipython3",
   "version": "3.10.9"
  }
 },
 "nbformat": 4,
 "nbformat_minor": 5
}
